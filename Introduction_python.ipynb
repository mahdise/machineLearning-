{
 "cells": [
  {
   "cell_type": "code",
   "execution_count": 1,
   "metadata": {},
   "outputs": [],
   "source": [
    "phrase=\"Mahdi Islam\""
   ]
  },
  {
   "cell_type": "code",
   "execution_count": 4,
   "metadata": {},
   "outputs": [
    {
     "name": "stdout",
     "output_type": "stream",
     "text": [
      "Mahdi Islam is cool\n"
     ]
    }
   ],
   "source": [
    "print(phrase+ \" is cool\")"
   ]
  },
  {
   "cell_type": "code",
   "execution_count": 6,
   "metadata": {},
   "outputs": [
    {
     "name": "stdout",
     "output_type": "stream",
     "text": [
      "MAHDI ISLAM\n"
     ]
    }
   ],
   "source": [
    "print(phrase.upper())"
   ]
  },
  {
   "cell_type": "code",
   "execution_count": 7,
   "metadata": {},
   "outputs": [
    {
     "name": "stdout",
     "output_type": "stream",
     "text": [
      "mahdi islam\n"
     ]
    }
   ],
   "source": [
    "print(phrase.lower())"
   ]
  },
  {
   "cell_type": "code",
   "execution_count": 8,
   "metadata": {},
   "outputs": [
    {
     "name": "stdout",
     "output_type": "stream",
     "text": [
      "False\n"
     ]
    }
   ],
   "source": [
    "print(phrase.isupper())"
   ]
  },
  {
   "cell_type": "code",
   "execution_count": 9,
   "metadata": {},
   "outputs": [
    {
     "name": "stdout",
     "output_type": "stream",
     "text": [
      "True\n"
     ]
    }
   ],
   "source": [
    "print(phrase.upper().isupper())"
   ]
  },
  {
   "cell_type": "code",
   "execution_count": 10,
   "metadata": {},
   "outputs": [
    {
     "name": "stdout",
     "output_type": "stream",
     "text": [
      "11\n"
     ]
    }
   ],
   "source": [
    "print(len(phrase))"
   ]
  },
  {
   "cell_type": "code",
   "execution_count": 11,
   "metadata": {},
   "outputs": [
    {
     "name": "stdout",
     "output_type": "stream",
     "text": [
      "M\n"
     ]
    }
   ],
   "source": [
    "print(phrase[0])"
   ]
  },
  {
   "cell_type": "code",
   "execution_count": 12,
   "metadata": {},
   "outputs": [
    {
     "name": "stdout",
     "output_type": "stream",
     "text": [
      "h\n"
     ]
    }
   ],
   "source": [
    "print(phrase[2])"
   ]
  },
  {
   "cell_type": "code",
   "execution_count": 13,
   "metadata": {},
   "outputs": [
    {
     "name": "stdout",
     "output_type": "stream",
     "text": [
      "0\n"
     ]
    }
   ],
   "source": [
    "print(phrase.index(\"M\"))"
   ]
  },
  {
   "cell_type": "code",
   "execution_count": 14,
   "metadata": {},
   "outputs": [
    {
     "name": "stdout",
     "output_type": "stream",
     "text": [
      "4\n"
     ]
    }
   ],
   "source": [
    "print(phrase.index(\"i\"))"
   ]
  },
  {
   "cell_type": "code",
   "execution_count": 15,
   "metadata": {},
   "outputs": [
    {
     "name": "stdout",
     "output_type": "stream",
     "text": [
      "Mahdi Khan\n"
     ]
    }
   ],
   "source": [
    "print(phrase.replace(\"Islam\",\"Khan\"))"
   ]
  },
  {
   "cell_type": "code",
   "execution_count": 18,
   "metadata": {},
   "outputs": [
    {
     "name": "stdout",
     "output_type": "stream",
     "text": [
      "-4.03636\n"
     ]
    }
   ],
   "source": [
    "print(-4.03636)"
   ]
  },
  {
   "cell_type": "code",
   "execution_count": 19,
   "metadata": {},
   "outputs": [
    {
     "name": "stdout",
     "output_type": "stream",
     "text": [
      "13.8\n"
     ]
    }
   ],
   "source": [
    "print(4+9.8)"
   ]
  },
  {
   "cell_type": "code",
   "execution_count": 20,
   "metadata": {},
   "outputs": [
    {
     "name": "stdout",
     "output_type": "stream",
     "text": [
      "1895988\n"
     ]
    }
   ],
   "source": [
    "print(4*473997)"
   ]
  },
  {
   "cell_type": "code",
   "execution_count": 22,
   "metadata": {},
   "outputs": [
    {
     "name": "stdout",
     "output_type": "stream",
     "text": [
      "1\n"
     ]
    }
   ],
   "source": [
    "print(10%3)\n",
    "# reminder"
   ]
  },
  {
   "cell_type": "code",
   "execution_count": 28,
   "metadata": {},
   "outputs": [
    {
     "name": "stdout",
     "output_type": "stream",
     "text": [
      "5 My  favou\n"
     ]
    }
   ],
   "source": [
    "my_num=5\n",
    "print(str(my_num) + \" My  favou\")"
   ]
  },
  {
   "cell_type": "code",
   "execution_count": 29,
   "metadata": {},
   "outputs": [
    {
     "name": "stdout",
     "output_type": "stream",
     "text": [
      "5\n"
     ]
    }
   ],
   "source": [
    "my_num=-5\n",
    "print(abs(my_num))"
   ]
  },
  {
   "cell_type": "code",
   "execution_count": 31,
   "metadata": {},
   "outputs": [
    {
     "name": "stdout",
     "output_type": "stream",
     "text": [
      "9\n"
     ]
    }
   ],
   "source": [
    "my_num=-5\n",
    "print(pow(3,2))"
   ]
  },
  {
   "cell_type": "code",
   "execution_count": 32,
   "metadata": {},
   "outputs": [
    {
     "name": "stdout",
     "output_type": "stream",
     "text": [
      "3\n"
     ]
    }
   ],
   "source": [
    "my_num=-5\n",
    "print(max(3,2))"
   ]
  },
  {
   "cell_type": "code",
   "execution_count": 33,
   "metadata": {},
   "outputs": [
    {
     "name": "stdout",
     "output_type": "stream",
     "text": [
      "2\n"
     ]
    }
   ],
   "source": [
    "my_num=-5\n",
    "print(min(3,2))"
   ]
  },
  {
   "cell_type": "code",
   "execution_count": 34,
   "metadata": {},
   "outputs": [
    {
     "name": "stdout",
     "output_type": "stream",
     "text": [
      "4\n"
     ]
    }
   ],
   "source": [
    "my_num=-5\n",
    "print(round(3.7))"
   ]
  },
  {
   "cell_type": "code",
   "execution_count": 36,
   "metadata": {},
   "outputs": [
    {
     "name": "stdout",
     "output_type": "stream",
     "text": [
      "3\n"
     ]
    }
   ],
   "source": [
    "from math import *\n",
    "\n",
    "my_num=-5\n",
    "print(floor(3.7))"
   ]
  },
  {
   "cell_type": "code",
   "execution_count": 37,
   "metadata": {},
   "outputs": [
    {
     "name": "stdout",
     "output_type": "stream",
     "text": [
      "4\n"
     ]
    }
   ],
   "source": [
    "from math import *\n",
    "\n",
    "my_num=-5\n",
    "print(ceil(3.7))"
   ]
  },
  {
   "cell_type": "code",
   "execution_count": 39,
   "metadata": {},
   "outputs": [
    {
     "name": "stdout",
     "output_type": "stream",
     "text": [
      "5.477225575051661\n"
     ]
    }
   ],
   "source": [
    "from math import *\n",
    "\n",
    "my_num=-5\n",
    "print(sqrt(30))"
   ]
  },
  {
   "cell_type": "code",
   "execution_count": 43,
   "metadata": {},
   "outputs": [
    {
     "name": "stdout",
     "output_type": "stream",
     "text": [
      "Enter your name :Mahdi\n",
      "hello Mahdi!\n"
     ]
    }
   ],
   "source": [
    "# getting input from user\n",
    "Name=input(\"Enter your name :\")\n",
    "print(\"hello \" + Name +\"!\")"
   ]
  },
  {
   "cell_type": "code",
   "execution_count": 20,
   "metadata": {},
   "outputs": [
    {
     "name": "stdout",
     "output_type": "stream",
     "text": [
      "['jai', 'kama', 'kevin', 'mahdi', 'rob']\n"
     ]
    }
   ],
   "source": [
    "# list function\n",
    "lucky_numbers = [4,8,15,16,23,42]\n",
    "friends =[\"kevin\",\"mahdi\",\"rob\",\"kama\",\"jai\"]\n",
    "friends.sort()\n",
    "print(friends)"
   ]
  },
  {
   "cell_type": "code",
   "execution_count": 21,
   "metadata": {},
   "outputs": [],
   "source": [
    "friends.extend(lucky_numbers)"
   ]
  },
  {
   "cell_type": "code",
   "execution_count": 22,
   "metadata": {},
   "outputs": [],
   "source": [
    "friends.append(\"Creed\")"
   ]
  },
  {
   "cell_type": "code",
   "execution_count": 23,
   "metadata": {},
   "outputs": [],
   "source": [
    "friends.insert(1,\"kelly\")\n"
   ]
  },
  {
   "cell_type": "code",
   "execution_count": 24,
   "metadata": {},
   "outputs": [],
   "source": [
    "friends.remove(\"mahdi\")\n",
    "\n"
   ]
  },
  {
   "cell_type": "code",
   "execution_count": 25,
   "metadata": {},
   "outputs": [
    {
     "name": "stdout",
     "output_type": "stream",
     "text": [
      "2\n"
     ]
    }
   ],
   "source": [
    "print(friends.index(\"kama\"))"
   ]
  },
  {
   "cell_type": "code",
   "execution_count": 28,
   "metadata": {},
   "outputs": [
    {
     "name": "stdout",
     "output_type": "stream",
     "text": [
      "['jai', 'kama', 'kelly', 'kevin', 'rob', 4, 8, 15, 16, 23, 42, 'Creed']\n"
     ]
    }
   ],
   "source": [
    "print(friends)"
   ]
  },
  {
   "cell_type": "code",
   "execution_count": 29,
   "metadata": {},
   "outputs": [
    {
     "name": "stdout",
     "output_type": "stream",
     "text": [
      "4\n"
     ]
    }
   ],
   "source": [
    "# tuples\n",
    "coordinates =(4,5)\n",
    "print(coordinates[0])\n"
   ]
  },
  {
   "cell_type": "code",
   "execution_count": 30,
   "metadata": {},
   "outputs": [
    {
     "name": "stdout",
     "output_type": "stream",
     "text": [
      "5\n"
     ]
    }
   ],
   "source": [
    "print(coordinates[1])"
   ]
  },
  {
   "cell_type": "code",
   "execution_count": 31,
   "metadata": {},
   "outputs": [
    {
     "ename": "TypeError",
     "evalue": "'tuple' object does not support item assignment",
     "output_type": "error",
     "traceback": [
      "\u001b[0;31m---------------------------------------------------------------------------\u001b[0m",
      "\u001b[0;31mTypeError\u001b[0m                                 Traceback (most recent call last)",
      "\u001b[0;32m<ipython-input-31-e52f52680e10>\u001b[0m in \u001b[0;36m<module>\u001b[0;34m\u001b[0m\n\u001b[0;32m----> 1\u001b[0;31m \u001b[0mcoordinates\u001b[0m\u001b[0;34m[\u001b[0m\u001b[0;36m0\u001b[0m\u001b[0;34m]\u001b[0m \u001b[0;34m=\u001b[0m\u001b[0;36m10\u001b[0m\u001b[0;34m\u001b[0m\u001b[0;34m\u001b[0m\u001b[0m\n\u001b[0m",
      "\u001b[0;31mTypeError\u001b[0m: 'tuple' object does not support item assignment"
     ]
    }
   ],
   "source": [
    "coordinates[0] =10"
   ]
  },
  {
   "cell_type": "code",
   "execution_count": 32,
   "metadata": {},
   "outputs": [],
   "source": [
    "# list=[], can change\n",
    "# tuple=(), can not change\n"
   ]
  },
  {
   "cell_type": "code",
   "execution_count": 1,
   "metadata": {},
   "outputs": [
    {
     "name": "stdout",
     "output_type": "stream",
     "text": [
      "hello MahdiYour age Is 25\n"
     ]
    }
   ],
   "source": [
    "# function\n",
    "def say_hi (name,age):\n",
    "    print(\"hello \" + name + \"Your age Is \" +age)\n",
    "    \n",
    "say_hi(\"Mahdi\",\"25\")\n",
    "  \n",
    "    \n",
    "    "
   ]
  },
  {
   "cell_type": "code",
   "execution_count": 3,
   "metadata": {},
   "outputs": [
    {
     "name": "stdout",
     "output_type": "stream",
     "text": [
      "None\n"
     ]
    }
   ],
   "source": [
    "# return statement\n",
    "\n",
    "def cube(num):\n",
    "    num*num*num\n",
    "    \n",
    "print(cube(3))\n",
    "\n"
   ]
  },
  {
   "cell_type": "code",
   "execution_count": 9,
   "metadata": {},
   "outputs": [
    {
     "name": "stdout",
     "output_type": "stream",
     "text": [
      "27\n"
     ]
    }
   ],
   "source": [
    "def cube(num):\n",
    "    return num*num*num\n",
    "#     print(\"mahdi\")\n",
    "\n",
    "# cube(3)\n",
    "print(cube(3))"
   ]
  },
  {
   "cell_type": "code",
   "execution_count": 7,
   "metadata": {},
   "outputs": [],
   "source": [
    "result = cube(4)"
   ]
  },
  {
   "cell_type": "code",
   "execution_count": 8,
   "metadata": {},
   "outputs": [
    {
     "name": "stdout",
     "output_type": "stream",
     "text": [
      "64\n"
     ]
    }
   ],
   "source": [
    "print(result)"
   ]
  },
  {
   "cell_type": "code",
   "execution_count": 16,
   "metadata": {},
   "outputs": [
    {
     "name": "stdout",
     "output_type": "stream",
     "text": [
      "you are a male ans tall \n"
     ]
    }
   ],
   "source": [
    "# if statement\n",
    "\n",
    "is_male = True\n",
    "is_tall = True\n",
    "\n",
    "# if  is_male or is_tall:\n",
    "#     print (\"you are a male or tall or both \")\n",
    "if  is_male and is_tall:\n",
    "    print (\"you are a male ans tall \")\n",
    "\n",
    "elif  is_male and not ( is_tall):\n",
    "    print (\"you are a short male\") \n",
    "elif  not(is_male) and is_tall:\n",
    "    print (\"you are a tall  \")\n",
    "    \n",
    "else :\n",
    "    print (\"you are not a male and tall\")\n",
    "\n",
    "# I wake up\n",
    "# if i am hungry\n",
    "#  I eat breakfast\n",
    "    \n",
    "# I leave my house\n",
    "# if it is cloudy\n",
    "# i bring am umbralle\n",
    "# otherwise i will take sunglasse\n",
    "\n",
    "# i am at in resturatent \n",
    "# if i want meat\n",
    "# i order a steak\n",
    "# otherwise if i want pasta \n",
    "\n"
   ]
  },
  {
   "cell_type": "code",
   "execution_count": 17,
   "metadata": {},
   "outputs": [
    {
     "name": "stdout",
     "output_type": "stream",
     "text": [
      "50\n"
     ]
    }
   ],
   "source": [
    "#  comparision\n",
    "\n",
    "def max_num(num1,num2,num3):\n",
    "    if num1 >= num2 and num1 >= num3:\n",
    "        return num1\n",
    "    elif num2 >= num1 and num2 >= num3:\n",
    "        return num2\n",
    "    else:\n",
    "        return num3\n",
    "    \n",
    "print (max_num(3,40,50))\n",
    "\n",
    "    \n"
   ]
  },
  {
   "cell_type": "code",
   "execution_count": 19,
   "metadata": {},
   "outputs": [
    {
     "name": "stdout",
     "output_type": "stream",
     "text": [
      "Enter first number: 23\n",
      "Enter second number: 34\n",
      "Enter operator:  /\n",
      "0.6764705882352942\n"
     ]
    }
   ],
   "source": [
    "#   building a better a calculator\n",
    "\n",
    "num1 = float(input (\"Enter first number: \")) \n",
    "\n",
    "num2 = float(input (\"Enter second number: \")) \n",
    "# num3 = float(input (\"Enter third number: \"))\n",
    "op = input (\"Enter operator:  \")\n",
    "\n",
    "if op==\"+\":\n",
    "    print(num1 + num2)\n",
    "elif  op==\"-\":\n",
    "    print(num1 - num2)\n",
    "elif op==\"*\":\n",
    "    print(num1 * num2)\n",
    "elif op==\"/\":\n",
    "    print(num1/ num2)\n",
    "    \n",
    "else :\n",
    "    print(\"Invalid ioperator\")"
   ]
  },
  {
   "cell_type": "code",
   "execution_count": 20,
   "metadata": {},
   "outputs": [
    {
     "name": "stdout",
     "output_type": "stream",
     "text": [
      "November\n"
     ]
    }
   ],
   "source": [
    "# Dictionaries\n",
    "\n",
    "monthconversation =    {\n",
    "    \n",
    "    \"Jan\": \"January\",\n",
    "    \"Feb\": \"February\",\n",
    "    \"Mar\": \"March\",\n",
    "    \"Apr\": \"April\",\n",
    "    \"May\": \"May\",\n",
    "    \"Apr\": \"April\",\n",
    "    \"May\": \"May\",\n",
    "    \"Jun\": \"June\",\n",
    "    \"Jul\": \"July\",\n",
    "    \"Aug\": \"August\",\n",
    "    \"Sep\": \"September\",\n",
    "    \"Oct\": \"October\",\n",
    "    \"Nov\": \"November\",\n",
    "    \"Dec\":\"December\",\n",
    "    \n",
    "    \n",
    "    \n",
    "}\n",
    "\n",
    "print(monthconversation[\"Nov\"])\n"
   ]
  },
  {
   "cell_type": "code",
   "execution_count": 21,
   "metadata": {},
   "outputs": [
    {
     "name": "stdout",
     "output_type": "stream",
     "text": [
      "September\n"
     ]
    }
   ],
   "source": [
    "print(monthconversation[\"Sep\"])"
   ]
  },
  {
   "cell_type": "code",
   "execution_count": 22,
   "metadata": {},
   "outputs": [
    {
     "name": "stdout",
     "output_type": "stream",
     "text": [
      "December\n"
     ]
    }
   ],
   "source": [
    "# get function\n",
    "print(monthconversation.get(\"Dec\"))"
   ]
  },
  {
   "cell_type": "code",
   "execution_count": 23,
   "metadata": {},
   "outputs": [
    {
     "name": "stdout",
     "output_type": "stream",
     "text": [
      "None\n"
     ]
    }
   ],
   "source": [
    "print(monthconversation.get(\"han\"))"
   ]
  },
  {
   "cell_type": "code",
   "execution_count": 24,
   "metadata": {},
   "outputs": [
    {
     "name": "stdout",
     "output_type": "stream",
     "text": [
      "Not accurate speeling of month\n"
     ]
    }
   ],
   "source": [
    "# Defaul ,if not match\n",
    "print(monthconversation.get(\"han\",\"Not accurate speeling of month\"))"
   ]
  },
  {
   "cell_type": "code",
   "execution_count": 26,
   "metadata": {},
   "outputs": [
    {
     "name": "stdout",
     "output_type": "stream",
     "text": [
      "1\n",
      "2\n",
      "3\n",
      "4\n",
      "5\n",
      "6\n",
      "7\n",
      "8\n",
      "9\n",
      "10\n",
      "Done with loop\n"
     ]
    }
   ],
   "source": [
    "# loop\n",
    "i =1\n",
    "while i<=10:\n",
    "    print(i)\n",
    "    i+=1\n",
    "    \n",
    "print(\"Done with loop\")\n",
    "    "
   ]
  },
  {
   "cell_type": "code",
   "execution_count": 31,
   "metadata": {},
   "outputs": [
    {
     "name": "stdout",
     "output_type": "stream",
     "text": [
      "Enter guess: skahkj\n",
      "Enter guess: shbah\n",
      "Enter guess: giraffe\n",
      "You win!\n"
     ]
    }
   ],
   "source": [
    "#  Buildig a game\n",
    "secret_word=\"giraffe\"\n",
    "guess=\"\"\n",
    "guess_count=0\n",
    "guess_limit=4\n",
    "out_of_guess= False\n",
    "\n",
    "\n",
    "\n",
    "\n",
    "while guess !=secret_word and not (out_of_guess) :\n",
    "    if guess_count< guess_limit:\n",
    "        guess = input (\"Enter guess: \")\n",
    "        guess_count+=1\n",
    "    else:\n",
    "        out_of_guess=True\n",
    "        \n",
    "    \n",
    "if   out_of_guess:\n",
    "    print(\"You loose\")\n",
    "else:\n",
    "    print(\"You win!\")\n",
    "\n"
   ]
  },
  {
   "cell_type": "code",
   "execution_count": 34,
   "metadata": {},
   "outputs": [
    {
     "name": "stdout",
     "output_type": "stream",
     "text": [
      "jim\n",
      "kera\n",
      "gsg\n"
     ]
    }
   ],
   "source": [
    "#  foor loop\n",
    "\n",
    "friends= [\"jim\",\"kera\",\"gsg\"]\n",
    "for friend in friends:\n",
    "    print (friend)\n",
    "    "
   ]
  },
  {
   "cell_type": "code",
   "execution_count": 73,
   "metadata": {},
   "outputs": [
    {
     "ename": "SyntaxError",
     "evalue": "invalid syntax (<ipython-input-73-bfb01e6142c7>, line 2)",
     "output_type": "error",
     "traceback": [
      "\u001b[0;36m  File \u001b[0;32m\"<ipython-input-73-bfb01e6142c7>\"\u001b[0;36m, line \u001b[0;32m2\u001b[0m\n\u001b[0;31m    if index==3\u001b[0m\n\u001b[0m               ^\u001b[0m\n\u001b[0;31mSyntaxError\u001b[0m\u001b[0;31m:\u001b[0m invalid syntax\n"
     ]
    }
   ],
   "source": [
    "for index in range(10):\n",
    "    if index==3\n",
    "       print(\"mahdi\")\n",
    "    \n",
    "    print(index)"
   ]
  },
  {
   "cell_type": "code",
   "execution_count": 38,
   "metadata": {},
   "outputs": [
    {
     "name": "stdout",
     "output_type": "stream",
     "text": [
      "3\n",
      "4\n",
      "5\n",
      "6\n",
      "7\n",
      "8\n",
      "9\n"
     ]
    }
   ],
   "source": [
    "for index in range(3,10):\n",
    "    print(index)"
   ]
  },
  {
   "cell_type": "code",
   "execution_count": 43,
   "metadata": {},
   "outputs": [
    {
     "name": "stdout",
     "output_type": "stream",
     "text": [
      "jim\n",
      "kera\n",
      "gsg\n"
     ]
    }
   ],
   "source": [
    "\n",
    "for index in range(len(friends)):\n",
    "    print(friends[index])"
   ]
  },
  {
   "cell_type": "code",
   "execution_count": 71,
   "metadata": {},
   "outputs": [
    {
     "name": "stdout",
     "output_type": "stream",
     "text": [
      "first Itration\n",
      "index\n",
      "index\n",
      "index\n",
      "index\n"
     ]
    }
   ],
   "source": [
    "for index in range(5):\n",
    "    if index==0:\n",
    "        print (\"first Itration\")\n",
    "    else:\n",
    "        print(\"index\")"
   ]
  },
  {
   "cell_type": "code",
   "execution_count": 45,
   "metadata": {},
   "outputs": [
    {
     "name": "stdout",
     "output_type": "stream",
     "text": [
      "8\n"
     ]
    }
   ],
   "source": [
    "#  exponent function\n",
    "print (2**3)"
   ]
  },
  {
   "cell_type": "code",
   "execution_count": 52,
   "metadata": {},
   "outputs": [
    {
     "name": "stdout",
     "output_type": "stream",
     "text": [
      "9\n"
     ]
    }
   ],
   "source": [
    "def raise_to_power(base_num, power_num):\n",
    "    result= 1\n",
    "    for index in range (power_num):\n",
    "        \n",
    "        result = result*base_num\n",
    "    return result\n",
    "\n",
    "print(raise_to_power(3,2))\n",
    "    "
   ]
  },
  {
   "cell_type": "code",
   "execution_count": 88,
   "metadata": {},
   "outputs": [
    {
     "name": "stdout",
     "output_type": "stream",
     "text": [
      "1\n",
      "2\n",
      "mahdi\n",
      "4\n",
      "Nazmul\n",
      "mahdi\n",
      "7\n",
      "8\n",
      "mahdi\n",
      "Nazmul\n",
      "11\n",
      "mahdi\n",
      "13\n",
      "14\n",
      "Rahim Karim\n",
      "16\n",
      "17\n",
      "mahdi\n",
      "19\n",
      "Nazmul\n",
      "mahdi\n",
      "22\n",
      "23\n",
      "mahdi\n",
      "Nazmul\n",
      "26\n",
      "mahdi\n",
      "28\n",
      "29\n",
      "Rahim Karim\n",
      "31\n",
      "32\n",
      "mahdi\n",
      "34\n",
      "Nazmul\n",
      "mahdi\n",
      "37\n",
      "38\n",
      "mahdi\n",
      "Nazmul\n",
      "41\n",
      "mahdi\n",
      "43\n",
      "44\n",
      "Rahim Karim\n",
      "46\n",
      "47\n",
      "mahdi\n",
      "49\n",
      "Nazmul\n",
      "mahdi\n",
      "52\n",
      "53\n",
      "mahdi\n",
      "Nazmul\n",
      "56\n",
      "mahdi\n",
      "58\n",
      "59\n",
      "Rahim Karim\n",
      "61\n",
      "62\n",
      "mahdi\n",
      "64\n",
      "Nazmul\n",
      "mahdi\n",
      "67\n",
      "68\n",
      "mahdi\n",
      "Nazmul\n",
      "71\n",
      "mahdi\n",
      "73\n",
      "74\n",
      "Rahim Karim\n",
      "76\n",
      "77\n",
      "mahdi\n",
      "79\n",
      "Nazmul\n",
      "mahdi\n",
      "82\n",
      "83\n",
      "mahdi\n",
      "Nazmul\n",
      "86\n",
      "mahdi\n",
      "88\n",
      "89\n",
      "Rahim Karim\n",
      "91\n",
      "92\n",
      "mahdi\n",
      "94\n",
      "Nazmul\n",
      "mahdi\n",
      "97\n",
      "98\n",
      "mahdi\n",
      "Nazmul\n"
     ]
    }
   ],
   "source": [
    "i =1\n",
    "num1=3\n",
    "num2=5\n",
    "\n",
    "while i<=100:\n",
    "        \n",
    "    if i%num1==0 and i%num2==0:\n",
    "        print(\"Rahim Karim\")\n",
    "        \n",
    "    elif i%num1==0 and i%num2 !=0:\n",
    "        print(\"mahdi\")\n",
    "        \n",
    "    elif i%num2==0 and i%num1 !=0:\n",
    "        print(\"Nazmul\")\n",
    "        \n",
    "    else:\n",
    "        print(i)\n",
    "        \n",
    "        \n",
    "    i+=1\n",
    "\n",
    "       \n",
    "        \n"
   ]
  },
  {
   "cell_type": "code",
   "execution_count": 2,
   "metadata": {},
   "outputs": [
    {
     "name": "stdout",
     "output_type": "stream",
     "text": [
      "1\n"
     ]
    }
   ],
   "source": [
    "#   2d dimensional list\n",
    "\n",
    "number_grid=[[1,2,3], [4,5,6],[7,8,9],[0]]\n",
    "print(number_grid[0][0])"
   ]
  },
  {
   "cell_type": "code",
   "execution_count": 4,
   "metadata": {},
   "outputs": [
    {
     "name": "stdout",
     "output_type": "stream",
     "text": [
      "3\n"
     ]
    }
   ],
   "source": [
    "print(number_grid[0][2])"
   ]
  },
  {
   "cell_type": "code",
   "execution_count": 5,
   "metadata": {},
   "outputs": [
    {
     "name": "stdout",
     "output_type": "stream",
     "text": [
      "[1, 2, 3]\n",
      "[4, 5, 6]\n",
      "[7, 8, 9]\n",
      "[0]\n"
     ]
    }
   ],
   "source": [
    "for row in number_grid:\n",
    "    print(row)\n",
    "    "
   ]
  },
  {
   "cell_type": "code",
   "execution_count": 6,
   "metadata": {},
   "outputs": [
    {
     "name": "stdout",
     "output_type": "stream",
     "text": [
      "1\n",
      "2\n",
      "3\n",
      "4\n",
      "5\n",
      "6\n",
      "7\n",
      "8\n",
      "9\n",
      "0\n"
     ]
    }
   ],
   "source": [
    "for row in number_grid:\n",
    "    for col in row:\n",
    "        print(col)\n",
    "    "
   ]
  },
  {
   "cell_type": "code",
   "execution_count": 11,
   "metadata": {},
   "outputs": [
    {
     "name": "stdout",
     "output_type": "stream",
     "text": [
      "Enter a phrase: On\n",
      " Gn\n"
     ]
    }
   ],
   "source": [
    "#  Build a translator\n",
    "def translate (phrase):\n",
    "    traslation=\" \"\n",
    "    for letetr in phrase:\n",
    "        if letetr in \"AEIOUaeiou\":\n",
    "            if letetr.isupper():\n",
    "                            traslation= traslation + \"G\"\n",
    "            else:\n",
    "                  traslation= traslation + \"g\"\n",
    "                \n",
    "                          \n",
    "                \n",
    "\n",
    "        else :\n",
    "            traslation=traslation+letetr\n",
    "    return traslation\n",
    "\n",
    "print(translate(input(\"Enter a phrase: \")))\n",
    "\n",
    "\n"
   ]
  },
  {
   "cell_type": "code",
   "execution_count": 18,
   "metadata": {},
   "outputs": [
    {
     "name": "stdout",
     "output_type": "stream",
     "text": [
      "division by zero\n"
     ]
    }
   ],
   "source": [
    "# try except\n",
    "try:\n",
    "    value=10/0\n",
    "    number = int(input(\"Enter a number : \"))\n",
    "    print(number)\n",
    "except ZeroDivisionError as err:\n",
    "    print(err)\n",
    "    \n",
    "except ValueError:\n",
    "    print(\"Invalid Input\")\n",
    "    "
   ]
  },
  {
   "cell_type": "markdown",
   "metadata": {},
   "source": [
    "#### pip and Modules..https://docs.python.org/3/py-modindex.html\n",
    "\n"
   ]
  },
  {
   "cell_type": "code",
   "execution_count": 19,
   "metadata": {},
   "outputs": [
    {
     "ename": "NameError",
     "evalue": "name 'lib' is not defined",
     "output_type": "error",
     "traceback": [
      "\u001b[0;31m---------------------------------------------------------------------------\u001b[0m",
      "\u001b[0;31mNameError\u001b[0m                                 Traceback (most recent call last)",
      "\u001b[0;32m<ipython-input-19-376456435d4c>\u001b[0m in \u001b[0;36m<module>\u001b[0;34m\u001b[0m\n\u001b[0;32m----> 1\u001b[0;31m \u001b[0mlib\u001b[0m\u001b[0;34m\u001b[0m\u001b[0;34m\u001b[0m\u001b[0m\n\u001b[0m",
      "\u001b[0;31mNameError\u001b[0m: name 'lib' is not defined"
     ]
    }
   ],
   "source": [
    "import "
   ]
  },
  {
   "cell_type": "code",
   "execution_count": null,
   "metadata": {},
   "outputs": [],
   "source": []
  }
 ],
 "metadata": {
  "kernelspec": {
   "display_name": "Python 3",
   "language": "python",
   "name": "python3"
  },
  "language_info": {
   "codemirror_mode": {
    "name": "ipython",
    "version": 3
   },
   "file_extension": ".py",
   "mimetype": "text/x-python",
   "name": "python",
   "nbconvert_exporter": "python",
   "pygments_lexer": "ipython3",
   "version": "3.7.3"
  }
 },
 "nbformat": 4,
 "nbformat_minor": 2
}
